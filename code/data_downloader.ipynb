{
 "metadata": {
  "name": "",
  "signature": "sha256:7420f860d0f6ccc151b821f0ec1083121391b8d2b900c33dc7f7be8a76ae8bc6"
 },
 "nbformat": 3,
 "nbformat_minor": 0,
 "worksheets": [
  {
   "cells": [
    {
     "cell_type": "code",
     "collapsed": false,
     "input": [
      "import datetime\n",
      "import pandas as pd\n",
      "import pandas.io.data as pddata\n",
      "from pandas import Series, DataFrame\n",
      "pd.__version__"
     ],
     "language": "python",
     "metadata": {},
     "outputs": [
      {
       "metadata": {},
       "output_type": "pyout",
       "prompt_number": 2,
       "text": [
        "'0.14.0'"
       ]
      }
     ],
     "prompt_number": 2
    },
    {
     "cell_type": "code",
     "collapsed": false,
     "input": [
      "snp = pddata.get_data_yahoo('SNP', \n",
      "                                 start=datetime.datetime(2014, 1, 1), \n",
      "                                 end=datetime.datetime(2014, 12, 31))\n",
      "print(snp.shape)\n",
      "snp.head()"
     ],
     "language": "python",
     "metadata": {},
     "outputs": [
      {
       "output_type": "stream",
       "stream": "stdout",
       "text": [
        "(252, 6)\n"
       ]
      },
      {
       "html": [
        "<div style=\"max-height:1000px;max-width:1500px;overflow:auto;\">\n",
        "<table border=\"1\" class=\"dataframe\">\n",
        "  <thead>\n",
        "    <tr style=\"text-align: right;\">\n",
        "      <th></th>\n",
        "      <th>Open</th>\n",
        "      <th>High</th>\n",
        "      <th>Low</th>\n",
        "      <th>Close</th>\n",
        "      <th>Volume</th>\n",
        "      <th>Adj Close</th>\n",
        "    </tr>\n",
        "    <tr>\n",
        "      <th>Date</th>\n",
        "      <th></th>\n",
        "      <th></th>\n",
        "      <th></th>\n",
        "      <th></th>\n",
        "      <th></th>\n",
        "      <th></th>\n",
        "    </tr>\n",
        "  </thead>\n",
        "  <tbody>\n",
        "    <tr>\n",
        "      <th>2014-01-02</th>\n",
        "      <td> 81.08</td>\n",
        "      <td> 81.08</td>\n",
        "      <td> 79.76</td>\n",
        "      <td> 79.93</td>\n",
        "      <td> 124000</td>\n",
        "      <td> 76.64</td>\n",
        "    </tr>\n",
        "    <tr>\n",
        "      <th>2014-01-03</th>\n",
        "      <td> 79.09</td>\n",
        "      <td> 79.25</td>\n",
        "      <td> 78.00</td>\n",
        "      <td> 78.67</td>\n",
        "      <td> 117600</td>\n",
        "      <td> 75.43</td>\n",
        "    </tr>\n",
        "    <tr>\n",
        "      <th>2014-01-06</th>\n",
        "      <td> 77.99</td>\n",
        "      <td> 77.99</td>\n",
        "      <td> 77.19</td>\n",
        "      <td> 77.24</td>\n",
        "      <td>  96800</td>\n",
        "      <td> 74.06</td>\n",
        "    </tr>\n",
        "    <tr>\n",
        "      <th>2014-01-07</th>\n",
        "      <td> 77.04</td>\n",
        "      <td> 77.32</td>\n",
        "      <td> 76.79</td>\n",
        "      <td> 77.00</td>\n",
        "      <td> 114200</td>\n",
        "      <td> 73.83</td>\n",
        "    </tr>\n",
        "    <tr>\n",
        "      <th>2014-01-08</th>\n",
        "      <td> 76.50</td>\n",
        "      <td> 76.55</td>\n",
        "      <td> 75.71</td>\n",
        "      <td> 76.23</td>\n",
        "      <td> 143300</td>\n",
        "      <td> 73.09</td>\n",
        "    </tr>\n",
        "  </tbody>\n",
        "</table>\n",
        "</div>"
       ],
       "metadata": {},
       "output_type": "pyout",
       "prompt_number": 3,
       "text": [
        "             Open   High    Low  Close  Volume  Adj Close\n",
        "Date                                                     \n",
        "2014-01-02  81.08  81.08  79.76  79.93  124000      76.64\n",
        "2014-01-03  79.09  79.25  78.00  78.67  117600      75.43\n",
        "2014-01-06  77.99  77.99  77.19  77.24   96800      74.06\n",
        "2014-01-07  77.04  77.32  76.79  77.00  114200      73.83\n",
        "2014-01-08  76.50  76.55  75.71  76.23  143300      73.09"
       ]
      }
     ],
     "prompt_number": 3
    },
    {
     "cell_type": "code",
     "collapsed": false,
     "input": [
      "\"%.4f\" % snp['Close'].var()"
     ],
     "language": "python",
     "metadata": {},
     "outputs": [
      {
       "metadata": {},
       "output_type": "pyout",
       "prompt_number": 4,
       "text": [
        "'53.2784'"
       ]
      }
     ],
     "prompt_number": 4
    },
    {
     "cell_type": "code",
     "collapsed": false,
     "input": [
      "gspc = pddata.get_data_yahoo('GSPC', \n",
      "                                 start=datetime.datetime(2014, 1, 1), \n",
      "                                 end=datetime.datetime(2014, 12, 31))\n",
      "print(gspc.shape)\n",
      "gspc.head()"
     ],
     "language": "python",
     "metadata": {},
     "outputs": [
      {
       "output_type": "stream",
       "stream": "stdout",
       "text": [
        "(252, 6)\n"
       ]
      },
      {
       "html": [
        "<div style=\"max-height:1000px;max-width:1500px;overflow:auto;\">\n",
        "<table border=\"1\" class=\"dataframe\">\n",
        "  <thead>\n",
        "    <tr style=\"text-align: right;\">\n",
        "      <th></th>\n",
        "      <th>Open</th>\n",
        "      <th>High</th>\n",
        "      <th>Low</th>\n",
        "      <th>Close</th>\n",
        "      <th>Volume</th>\n",
        "      <th>Adj Close</th>\n",
        "    </tr>\n",
        "    <tr>\n",
        "      <th>Date</th>\n",
        "      <th></th>\n",
        "      <th></th>\n",
        "      <th></th>\n",
        "      <th></th>\n",
        "      <th></th>\n",
        "      <th></th>\n",
        "    </tr>\n",
        "  </thead>\n",
        "  <tbody>\n",
        "    <tr>\n",
        "      <th>2014-01-02</th>\n",
        "      <td> 18.81</td>\n",
        "      <td> 19.15</td>\n",
        "      <td> 18.81</td>\n",
        "      <td> 19.13</td>\n",
        "      <td> 10200</td>\n",
        "      <td> 17.97</td>\n",
        "    </tr>\n",
        "    <tr>\n",
        "      <th>2014-01-03</th>\n",
        "      <td> 19.19</td>\n",
        "      <td> 19.42</td>\n",
        "      <td> 19.17</td>\n",
        "      <td> 19.42</td>\n",
        "      <td> 15200</td>\n",
        "      <td> 18.25</td>\n",
        "    </tr>\n",
        "    <tr>\n",
        "      <th>2014-01-06</th>\n",
        "      <td> 19.36</td>\n",
        "      <td> 19.65</td>\n",
        "      <td> 19.35</td>\n",
        "      <td> 19.55</td>\n",
        "      <td> 12100</td>\n",
        "      <td> 18.37</td>\n",
        "    </tr>\n",
        "    <tr>\n",
        "      <th>2014-01-07</th>\n",
        "      <td> 19.56</td>\n",
        "      <td> 19.68</td>\n",
        "      <td> 19.37</td>\n",
        "      <td> 19.67</td>\n",
        "      <td> 30300</td>\n",
        "      <td> 18.48</td>\n",
        "    </tr>\n",
        "    <tr>\n",
        "      <th>2014-01-08</th>\n",
        "      <td> 19.58</td>\n",
        "      <td> 19.73</td>\n",
        "      <td> 19.47</td>\n",
        "      <td> 19.69</td>\n",
        "      <td>  9400</td>\n",
        "      <td> 18.50</td>\n",
        "    </tr>\n",
        "  </tbody>\n",
        "</table>\n",
        "</div>"
       ],
       "metadata": {},
       "output_type": "pyout",
       "prompt_number": 5,
       "text": [
        "             Open   High    Low  Close  Volume  Adj Close\n",
        "Date                                                     \n",
        "2014-01-02  18.81  19.15  18.81  19.13   10200      17.97\n",
        "2014-01-03  19.19  19.42  19.17  19.42   15200      18.25\n",
        "2014-01-06  19.36  19.65  19.35  19.55   12100      18.37\n",
        "2014-01-07  19.56  19.68  19.37  19.67   30300      18.48\n",
        "2014-01-08  19.58  19.73  19.47  19.69    9400      18.50"
       ]
      }
     ],
     "prompt_number": 5
    },
    {
     "cell_type": "code",
     "collapsed": false,
     "input": [
      "true= True\n",
      "false= False\n",
      "null= None"
     ],
     "language": "python",
     "metadata": {},
     "outputs": [],
     "prompt_number": 6
    },
    {
     "cell_type": "code",
     "collapsed": false,
     "input": [
      "with open('/D/Dropbox/stock-JSD/data/nyse_symbols.json', 'r') as f:\n",
      "    nyse= eval(f.read())"
     ],
     "language": "python",
     "metadata": {},
     "outputs": [
      {
       "ename": "FileNotFoundError",
       "evalue": "[Errno 2] No such file or directory: '/D/Dropbox/stock-JSD/data/nyse_symbols.json'",
       "output_type": "pyerr",
       "traceback": [
        "\u001b[1;31m---------------------------------------------------------------------------\u001b[0m\n\u001b[1;31mFileNotFoundError\u001b[0m                         Traceback (most recent call last)",
        "\u001b[1;32m<ipython-input-7-3ed9f5a001fd>\u001b[0m in \u001b[0;36m<module>\u001b[1;34m()\u001b[0m\n\u001b[1;32m----> 1\u001b[1;33m \u001b[1;32mwith\u001b[0m \u001b[0mopen\u001b[0m\u001b[1;33m(\u001b[0m\u001b[1;34m'/D/Dropbox/stock-JSD/data/nyse_symbols.json'\u001b[0m\u001b[1;33m,\u001b[0m \u001b[1;34m'r'\u001b[0m\u001b[1;33m)\u001b[0m \u001b[1;32mas\u001b[0m \u001b[0mf\u001b[0m\u001b[1;33m:\u001b[0m\u001b[1;33m\u001b[0m\u001b[0m\n\u001b[0m\u001b[0;32m      2\u001b[0m     \u001b[0mnyse\u001b[0m\u001b[1;33m=\u001b[0m \u001b[0meval\u001b[0m\u001b[1;33m(\u001b[0m\u001b[0mf\u001b[0m\u001b[1;33m.\u001b[0m\u001b[0mread\u001b[0m\u001b[1;33m(\u001b[0m\u001b[1;33m)\u001b[0m\u001b[1;33m)\u001b[0m\u001b[1;33m\u001b[0m\u001b[0m\n",
        "\u001b[1;31mFileNotFoundError\u001b[0m: [Errno 2] No such file or directory: '/D/Dropbox/stock-JSD/data/nyse_symbols.json'"
       ]
      }
     ],
     "prompt_number": 7
    },
    {
     "cell_type": "code",
     "collapsed": false,
     "input": [
      "nyse['columns']"
     ],
     "language": "python",
     "metadata": {},
     "outputs": []
    },
    {
     "cell_type": "code",
     "collapsed": false,
     "input": [
      "nyse['data'][:3]"
     ],
     "language": "python",
     "metadata": {},
     "outputs": []
    },
    {
     "cell_type": "code",
     "collapsed": false,
     "input": [
      "nyse_symbols= {}\n",
      "for line in nyse['data']:\n",
      "    if 'symbol' in line.keys() and 'origin' in line.keys():\n",
      "        nyse_symbols[line['symbol'][0]]= line['name']+line['origin']"
     ],
     "language": "python",
     "metadata": {},
     "outputs": []
    },
    {
     "cell_type": "code",
     "collapsed": false,
     "input": [
      "nyse_symbols"
     ],
     "language": "python",
     "metadata": {},
     "outputs": []
    },
    {
     "cell_type": "code",
     "collapsed": false,
     "input": [
      "len(nyse_symbols)"
     ],
     "language": "python",
     "metadata": {},
     "outputs": [
      {
       "ename": "NameError",
       "evalue": "name 'nyse_symbols' is not defined",
       "output_type": "pyerr",
       "traceback": [
        "\u001b[1;31m---------------------------------------------------------------------------\u001b[0m\n\u001b[1;31mNameError\u001b[0m                                 Traceback (most recent call last)",
        "\u001b[1;32m<ipython-input-8-dcbef85c807b>\u001b[0m in \u001b[0;36m<module>\u001b[1;34m()\u001b[0m\n\u001b[1;32m----> 1\u001b[1;33m \u001b[0mlen\u001b[0m\u001b[1;33m(\u001b[0m\u001b[0mnyse_symbols\u001b[0m\u001b[1;33m)\u001b[0m\u001b[1;33m\u001b[0m\u001b[0m\n\u001b[0m",
        "\u001b[1;31mNameError\u001b[0m: name 'nyse_symbols' is not defined"
       ]
      }
     ],
     "prompt_number": 8
    },
    {
     "cell_type": "code",
     "collapsed": false,
     "input": [],
     "language": "python",
     "metadata": {},
     "outputs": [],
     "prompt_number": 8
    },
    {
     "cell_type": "code",
     "collapsed": false,
     "input": [],
     "language": "python",
     "metadata": {},
     "outputs": []
    }
   ],
   "metadata": {}
  }
 ]
}